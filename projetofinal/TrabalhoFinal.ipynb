{
 "cells": [
  {
   "cell_type": "markdown",
   "metadata": {},
   "source": [
    "## Trabalho Final - Ciência de Dados - Enap / 2020"
   ]
  },
  {
   "cell_type": "markdown",
   "metadata": {},
   "source": [
    "*Por José Luiz Neves Voltan -  DEZ 2020*"
   ]
  },
  {
   "cell_type": "markdown",
   "metadata": {},
   "source": [
    "### Apresentação do Dataset"
   ]
  },
  {
   "cell_type": "markdown",
   "metadata": {
    "deletable": false,
    "nbgrader": {
     "cell_type": "code",
     "checksum": "df725c16c2d49add1eb9775d05df2bf4",
     "grade": true,
     "grade_id": "cell-747db8f94c086679",
     "locked": false,
     "points": 1,
     "schema_version": 3,
     "solution": true,
     "task": false
    }
   },
   "source": [
    "O trabalho terá como tema as questões remuneratórias e de carreira dos servidores federais do poder executivo federal. Serão estudadas questões remuneração, quantidade de funcionários, envelhecimento dos quadros e ingresso no serviço público. \n",
    "\n",
    "\n",
    "Os dados foram obtidos através do site http://transparencia.gov.br/download-de-dados/servidores  selecionando o ano de **2020**. Dentro do ano, se selecionou o mês de **maio**. Quanto à categoria, selecionei **servidores**. Dessa forma foi gerado 1 dataset. Selecionei dois arquivos CSV, um referente ao **cadastro do servidor** com informações como identificador único, nome, miolo do CPF, regime de trabalho; o outro com **informações remuneratórias**.\n",
    "\n",
    "* O dicionário do cadastro dos servidores pode ser obtido através da URL: http://transparencia.gov.br/pagina-interna/603422-dicionario-de-dados-servidores-cadastro\n",
    "\n",
    "* O dicionário das informações remuneratórias dos servidores pode ser obtido através da URL: http://transparencia.gov.br/pagina-interna/603423-dicionario-de-dados-servidores-remuneracao\n"
   ]
  },
  {
   "cell_type": "markdown",
   "metadata": {},
   "source": [
    "Assim toda análise feita neste trabalho se restringirá ao universo dos **funcionários público do poder executivo, a nível federal**, considerando-se a folha de pagamento de **maio** de **2020**"
   ]
  },
  {
   "cell_type": "markdown",
   "metadata": {},
   "source": [
    "#### Link para Download do Dataset"
   ]
  },
  {
   "cell_type": "markdown",
   "metadata": {},
   "source": [
    " Tendo em vista o grande volume de dados, inseri os arquivos em um drive virtual.\n",
    " link= \"https://mega.nz/folder/z0MHmaqQ#TPKceqoF3R_29DgmjllDxw\""
   ]
  },
  {
   "cell_type": "code",
   "execution_count": 62,
   "metadata": {},
   "outputs": [],
   "source": [
    "servidor_2020_cadastro= \"2020_maio_servidor_Cadastro.csv\"\n",
    "servidor_2020_remuneracao= \"2020_maio_servidor_Remuneracao.csv\"\n",
    "mediasalarial=\"mediasalarial.csv\""
   ]
  },
  {
   "cell_type": "markdown",
   "metadata": {},
   "source": [
    "### Motivação Pessoal"
   ]
  },
  {
   "cell_type": "markdown",
   "metadata": {
    "deletable": false,
    "nbgrader": {
     "cell_type": "code",
     "checksum": "d88b06e235435f144aa28d716c84bb7c",
     "grade": true,
     "grade_id": "cell-78e97c9cbf087543",
     "locked": false,
     "points": 1,
     "schema_version": 3,
     "solution": true,
     "task": false
    }
   },
   "source": [
    "As **questões envolvendo a carreira e a remuneração dos servidores públicos do poder executivo** são algo que volta e meia recebem o destaque da mídia, muitas vezes focando apenas no gasto e sem levar em conta os serviços oferecidos para a população. Muitas análises são superficiais e tendenciosas com um forte viés que compromete o estudo/ideia apresentada. Tem-se a ideia preconcebida e buscam se dados que a confirmem, ignorando o que não é pertinente para a conclusão que se deseja chegar. \n",
    "\n",
    "Essa temática sempre despertou meu interesse, por acreditar que o serviço público existe para servir a nação oferecendo suporte à população e assegurando direitos como a saúde, educação e segurança."
   ]
  },
  {
   "cell_type": "markdown",
   "metadata": {},
   "source": [
    "### Investigação"
   ]
  },
  {
   "cell_type": "code",
   "execution_count": 63,
   "metadata": {},
   "outputs": [],
   "source": [
    "# Importe as bibliotecas pandas, numpy, glob e sqlalchemy\n",
    "import pandas as pd\n",
    "import numpy as np\n",
    "import pandas as pd\n",
    "import seaborn as sns\n",
    "import matplotlib.pyplot as plt\n",
    "sns.set()\n",
    "#Versão do Seaborn\n",
    "#sns.__version__\n",
    "\n",
    "#Ignorar mensagens de atenção\n",
    "import warnings\n",
    "warnings.filterwarnings(\"ignore\")"
   ]
  },
  {
   "cell_type": "markdown",
   "metadata": {},
   "source": [
    "Nos datasets de cadastro dos servidores, trabalharemos com as colunas: **Id_SERVIDOR_PORTAL  DESCRICAO_CARGO SITUACAO_VINCULO DATA_INGRESSO_ORGAO**\t"
   ]
  },
  {
   "cell_type": "code",
   "execution_count": 64,
   "metadata": {},
   "outputs": [],
   "source": [
    "df_servidor_2020_cadastro = pd.read_csv(servidor_2020_cadastro, sep=\";\",usecols= [\"Id_SERVIDOR_PORTAL\",  \"DESCRICAO_CARGO\", \"SITUACAO_VINCULO\", \"DATA_INGRESSO_ORGAO\"], low_memory=False)   "
   ]
  },
  {
   "cell_type": "code",
   "execution_count": 65,
   "metadata": {},
   "outputs": [
    {
     "name": "stdout",
     "output_type": "stream",
     "text": [
      "Id_SERVIDOR_PORTAL      int64\n",
      "DESCRICAO_CARGO        object\n",
      "SITUACAO_VINCULO       object\n",
      "DATA_INGRESSO_ORGAO    object\n",
      "dtype: object\n"
     ]
    },
    {
     "data": {
      "text/plain": [
       "(765091, 4)"
      ]
     },
     "execution_count": 65,
     "metadata": {},
     "output_type": "execute_result"
    }
   ],
   "source": [
    "#Observando inicialmente o Dataset\n",
    "# print(df_servidor_2020_cadastro.head(3))\n",
    "# print(df_servidor_2020_cadastro.tail(3))\n",
    "print(df_servidor_2020_cadastro.dtypes)\n",
    "df_servidor_2020_cadastro.shape"
   ]
  },
  {
   "cell_type": "code",
   "execution_count": 66,
   "metadata": {},
   "outputs": [
    {
     "name": "stdout",
     "output_type": "stream",
     "text": [
      "Id_SERVIDOR_PORTAL        0\n",
      "DESCRICAO_CARGO           0\n",
      "SITUACAO_VINCULO          0\n",
      "DATA_INGRESSO_ORGAO    1990\n",
      "dtype: int64\n"
     ]
    }
   ],
   "source": [
    "# Tratamento inicial do dataset\n",
    "\n",
    "# - Remoção de duplicatas na Chave\n",
    "df_servidor_2020_cadastro.duplicated(subset='Id_SERVIDOR_PORTAL').sum()\n",
    "df_servidor_2020_cadastro_pos = df_servidor_2020_cadastro.drop_duplicates(subset='Id_SERVIDOR_PORTAL', keep='first')\n",
    "df_servidor_2020_cadastro_pos.duplicated(subset='Id_SERVIDOR_PORTAL').sum()\n",
    "\n",
    "#Temos problemas com NA (1989) na coluna DATA_INGRESSO_ORGAO -> Merece atenção no momento que trabalharmos com data\n",
    "print(df_servidor_2020_cadastro.isna().sum())\n",
    "\n",
    "# df_servidor_2013_cadastro.isnull().sum()"
   ]
  },
  {
   "cell_type": "markdown",
   "metadata": {},
   "source": [
    "Nos datasets de remuneração dos servidores, trabalharemos com as colunas:\n",
    "**Id_SERVIDOR_PORTAL,  REMUNERAÇÃO BÁSICA BRUTA (R\\\\$), TOTAL DE VERBAS INDENIZATÓRIAS (R\\\\$), REMUNERAÇÃO APÓS DEDUÇÕES OBRIGATÓRIAS (R\\\\$)**\t"
   ]
  },
  {
   "cell_type": "code",
   "execution_count": 67,
   "metadata": {},
   "outputs": [],
   "source": [
    "df_servidor_2020_remuneracao = pd.read_csv(servidor_2020_remuneracao,usecols= [\"Id_SERVIDOR_PORTAL\",  \"REMUNERAÇÃO BÁSICA BRUTA (R$)\", \"TOTAL DE VERBAS INDENIZATÓRIAS (R$)(*)\", \"REMUNERAÇÃO APÓS DEDUÇÕES OBRIGATÓRIAS (R$)\"], sep=\";\", low_memory=False)   "
   ]
  },
  {
   "cell_type": "markdown",
   "metadata": {},
   "source": [
    "Destaco que a **REMUNERAÇÃO APÓS DEDUÇÕES OBRIGATÓRIAS (R$)** é definida pelo dicionario de dados como \"*Valor obtido pela soma das remunerações básica e eventual, descontados o abate teto, as deduções obrigatórias e demais deduções.*\""
   ]
  },
  {
   "cell_type": "markdown",
   "metadata": {},
   "source": [
    "- Na Análise sobre a remuneração dos servidores será levada em consideração a REMUNERAÇÃO APÓS DEDUÇÕES OBRIGATÓRIAS, uma vez que mesmo que o servidor receba um valor bruto maior do que o teto constitucional, após aplicação do abate teto, sua remuneração ficaria menor. Dessa forma, uma análise sobre a REMUNERAÇÃO BÁSICA BRUTA não refletiria a realidade para vencimentos mais altos."
   ]
  },
  {
   "cell_type": "code",
   "execution_count": 68,
   "metadata": {},
   "outputs": [
    {
     "name": "stdout",
     "output_type": "stream",
     "text": [
      "Id_SERVIDOR_PORTAL                             float64\n",
      "REMUNERAÇÃO BÁSICA BRUTA (R$)                   object\n",
      "REMUNERAÇÃO APÓS DEDUÇÕES OBRIGATÓRIAS (R$)     object\n",
      "TOTAL DE VERBAS INDENIZATÓRIAS (R$)(*)          object\n",
      "dtype: object\n"
     ]
    },
    {
     "data": {
      "text/plain": [
       "(549474, 4)"
      ]
     },
     "execution_count": 68,
     "metadata": {},
     "output_type": "execute_result"
    }
   ],
   "source": [
    "#Observando inicialmente o Dataset\n",
    "# print(df_servidor_2020_remuneracao.head(3))\n",
    "# print(df_servidor_2020_remuneracao.tail(3))\n",
    "print(df_servidor_2020_remuneracao.dtypes)\n",
    "df_servidor_2020_remuneracao.shape"
   ]
  },
  {
   "cell_type": "code",
   "execution_count": 69,
   "metadata": {},
   "outputs": [
    {
     "data": {
      "text/plain": [
       "Id_SERVIDOR_PORTAL                             0\n",
       "REMUNERAÇÃO BÁSICA BRUTA (R$)                  0\n",
       "REMUNERAÇÃO APÓS DEDUÇÕES OBRIGATÓRIAS (R$)    0\n",
       "TOTAL DE VERBAS INDENIZATÓRIAS (R$)(*)         0\n",
       "dtype: int64"
      ]
     },
     "execution_count": 69,
     "metadata": {},
     "output_type": "execute_result"
    }
   ],
   "source": [
    "# Tratamento inicial do dataset\n",
    "df_servidor_2020_remuneracao.duplicated(subset='Id_SERVIDOR_PORTAL').sum()\n",
    "# df_servidor_2020_remuneracao = df_servidor_2020_remuneracao.drop_duplicates()\n",
    "\n",
    "#Temos problemas com NA (3423) na coluna DATA_INGRESSO_ORGAO -> Merece atenção no momento que trabalharmos com data\n",
    "df_servidor_2020_remuneracao.isna().sum()\n",
    "\n",
    "df_servidor_2020_remuneracao.dropna(subset=['Id_SERVIDOR_PORTAL'], inplace=True)\n",
    "# Verificando se deu certo:\n",
    "df_servidor_2020_remuneracao.isnull().sum()\n"
   ]
  },
  {
   "cell_type": "markdown",
   "metadata": {},
   "source": [
    "- Preferi fazer o tratamento apenas na análise para evitar a inserção de viés na pesquisa. Por exemplo, se pessoas com datas de ingresso mais antigas tendem a receber mais, e essas pessoas aparecem no campo data de ingresso como NA, caso simplesmente removêssemos as tuplas estaríamos abaixando a média salarial dos servidores. Entretanto, no campo 'Id_SERVIDOR_PORTAL' fiz a remoção, pois ele será utilizado como chave para o merge com remuneração. "
   ]
  },
  {
   "cell_type": "code",
   "execution_count": 70,
   "metadata": {},
   "outputs": [],
   "source": [
    "#Fazendo um merge\n",
    "df_servidor_2020 = pd.merge(df_servidor_2020_cadastro_pos, df_servidor_2020_remuneracao, on='Id_SERVIDOR_PORTAL')"
   ]
  },
  {
   "cell_type": "code",
   "execution_count": 71,
   "metadata": {},
   "outputs": [],
   "source": [
    "# df_servidor_2020"
   ]
  },
  {
   "cell_type": "markdown",
   "metadata": {},
   "source": [
    "- Preparando a coluna REMUNERAÇÃO APÓS DEDUÇÕES OBRIGATÓRIAS para ser convertida em float"
   ]
  },
  {
   "cell_type": "code",
   "execution_count": 72,
   "metadata": {},
   "outputs": [],
   "source": [
    "df_servidor_2020[\"REMUNERAÇÃO APÓS DEDUÇÕES OBRIGATÓRIAS (R$)\"]=df_servidor_2020[\"REMUNERAÇÃO APÓS DEDUÇÕES OBRIGATÓRIAS (R$)\"].str.replace(\",\",\".\")\n",
    "# df_servidor_2020"
   ]
  },
  {
   "cell_type": "code",
   "execution_count": 73,
   "metadata": {},
   "outputs": [
    {
     "data": {
      "text/html": [
       "<div>\n",
       "<style scoped>\n",
       "    .dataframe tbody tr th:only-of-type {\n",
       "        vertical-align: middle;\n",
       "    }\n",
       "\n",
       "    .dataframe tbody tr th {\n",
       "        vertical-align: top;\n",
       "    }\n",
       "\n",
       "    .dataframe thead th {\n",
       "        text-align: right;\n",
       "    }\n",
       "</style>\n",
       "<table border=\"1\" class=\"dataframe\">\n",
       "  <thead>\n",
       "    <tr style=\"text-align: right;\">\n",
       "      <th></th>\n",
       "      <th>Id_SERVIDOR_PORTAL</th>\n",
       "      <th>DESCRICAO_CARGO</th>\n",
       "      <th>SITUACAO_VINCULO</th>\n",
       "      <th>DATA_INGRESSO_ORGAO</th>\n",
       "      <th>REMUNERAÇÃO BÁSICA BRUTA (R$)</th>\n",
       "      <th>REMUNERAÇÃO APÓS DEDUÇÕES OBRIGATÓRIAS (R$)</th>\n",
       "      <th>TOTAL DE VERBAS INDENIZATÓRIAS (R$)(*)</th>\n",
       "    </tr>\n",
       "  </thead>\n",
       "  <tbody>\n",
       "    <tr>\n",
       "      <th>0</th>\n",
       "      <td>5116961</td>\n",
       "      <td>BIBLIOTECARIO-DOCUMENTALISTA</td>\n",
       "      <td>ATIVO PERMANENTE</td>\n",
       "      <td>29/12/2008</td>\n",
       "      <td>7967,90</td>\n",
       "      <td>5984.979980</td>\n",
       "      <td>991,29</td>\n",
       "    </tr>\n",
       "    <tr>\n",
       "      <th>1</th>\n",
       "      <td>201964</td>\n",
       "      <td>ANALISTA DO BANCO CENTRAL</td>\n",
       "      <td>ATIVO PERMANENTE</td>\n",
       "      <td>NaN</td>\n",
       "      <td>34006,68</td>\n",
       "      <td>25763.789062</td>\n",
       "      <td>458,00</td>\n",
       "    </tr>\n",
       "    <tr>\n",
       "      <th>2</th>\n",
       "      <td>4405000</td>\n",
       "      <td>Sem informação</td>\n",
       "      <td>ATIVO PERMANENTE</td>\n",
       "      <td>24/07/2006</td>\n",
       "      <td>14249,03</td>\n",
       "      <td>9887.940430</td>\n",
       "      <td>458,00</td>\n",
       "    </tr>\n",
       "    <tr>\n",
       "      <th>3</th>\n",
       "      <td>4915841</td>\n",
       "      <td>PROFESSOR ENS BASICO TECN TECNOLOGICO</td>\n",
       "      <td>ATIVO PERMANENTE</td>\n",
       "      <td>29/12/2008</td>\n",
       "      <td>21007,45</td>\n",
       "      <td>13964.879883</td>\n",
       "      <td>798,12</td>\n",
       "    </tr>\n",
       "    <tr>\n",
       "      <th>4</th>\n",
       "      <td>5105492</td>\n",
       "      <td>AGENTE DE COMBATE AS ENDEMIAS</td>\n",
       "      <td>CEDIDO SUS/LEI 8270</td>\n",
       "      <td>04/09/2014</td>\n",
       "      <td>5896,78</td>\n",
       "      <td>4754.040039</td>\n",
       "      <td>1031,32</td>\n",
       "    </tr>\n",
       "    <tr>\n",
       "      <th>...</th>\n",
       "      <td>...</td>\n",
       "      <td>...</td>\n",
       "      <td>...</td>\n",
       "      <td>...</td>\n",
       "      <td>...</td>\n",
       "      <td>...</td>\n",
       "      <td>...</td>\n",
       "    </tr>\n",
       "    <tr>\n",
       "      <th>529904</th>\n",
       "      <td>216805</td>\n",
       "      <td>PROFESSOR DO MAGISTERIO SUPERIOR</td>\n",
       "      <td>ATIVO PERMANENTE</td>\n",
       "      <td>27/09/2005</td>\n",
       "      <td>19646,82</td>\n",
       "      <td>13156.549805</td>\n",
       "      <td>579,14</td>\n",
       "    </tr>\n",
       "    <tr>\n",
       "      <th>529905</th>\n",
       "      <td>1307290</td>\n",
       "      <td>AUXILIAR DE ENFERMAGEM</td>\n",
       "      <td>ATIVO PERMANENTE</td>\n",
       "      <td>23/12/1996</td>\n",
       "      <td>4801,59</td>\n",
       "      <td>4275.839844</td>\n",
       "      <td>732,18</td>\n",
       "    </tr>\n",
       "    <tr>\n",
       "      <th>529906</th>\n",
       "      <td>205958561</td>\n",
       "      <td>Inválido</td>\n",
       "      <td>SEM VINCULO</td>\n",
       "      <td>27/04/2020</td>\n",
       "      <td>0,00</td>\n",
       "      <td>13191.980469</td>\n",
       "      <td>0,00</td>\n",
       "    </tr>\n",
       "    <tr>\n",
       "      <th>529907</th>\n",
       "      <td>8504240</td>\n",
       "      <td>PROFESSOR DE 1 GRAU</td>\n",
       "      <td>ATIVO PERMANENTE</td>\n",
       "      <td>01/08/1986</td>\n",
       "      <td>6612,02</td>\n",
       "      <td>5663.080078</td>\n",
       "      <td>588,71</td>\n",
       "    </tr>\n",
       "    <tr>\n",
       "      <th>529908</th>\n",
       "      <td>8915543</td>\n",
       "      <td>PROFESSOR DO MAGISTERIO SUPERIOR</td>\n",
       "      <td>ATIVO PERMANENTE</td>\n",
       "      <td>18/03/2013</td>\n",
       "      <td>17945,81</td>\n",
       "      <td>34428.460938</td>\n",
       "      <td>671,53</td>\n",
       "    </tr>\n",
       "  </tbody>\n",
       "</table>\n",
       "<p>529909 rows × 7 columns</p>\n",
       "</div>"
      ],
      "text/plain": [
       "        Id_SERVIDOR_PORTAL                        DESCRICAO_CARGO  \\\n",
       "0                  5116961           BIBLIOTECARIO-DOCUMENTALISTA   \n",
       "1                   201964              ANALISTA DO BANCO CENTRAL   \n",
       "2                  4405000                         Sem informação   \n",
       "3                  4915841  PROFESSOR ENS BASICO TECN TECNOLOGICO   \n",
       "4                  5105492          AGENTE DE COMBATE AS ENDEMIAS   \n",
       "...                    ...                                    ...   \n",
       "529904              216805       PROFESSOR DO MAGISTERIO SUPERIOR   \n",
       "529905             1307290                 AUXILIAR DE ENFERMAGEM   \n",
       "529906           205958561                               Inválido   \n",
       "529907             8504240                    PROFESSOR DE 1 GRAU   \n",
       "529908             8915543       PROFESSOR DO MAGISTERIO SUPERIOR   \n",
       "\n",
       "           SITUACAO_VINCULO DATA_INGRESSO_ORGAO REMUNERAÇÃO BÁSICA BRUTA (R$)  \\\n",
       "0          ATIVO PERMANENTE          29/12/2008                       7967,90   \n",
       "1          ATIVO PERMANENTE                 NaN                      34006,68   \n",
       "2          ATIVO PERMANENTE          24/07/2006                      14249,03   \n",
       "3          ATIVO PERMANENTE          29/12/2008                      21007,45   \n",
       "4       CEDIDO SUS/LEI 8270          04/09/2014                       5896,78   \n",
       "...                     ...                 ...                           ...   \n",
       "529904     ATIVO PERMANENTE          27/09/2005                      19646,82   \n",
       "529905     ATIVO PERMANENTE          23/12/1996                       4801,59   \n",
       "529906          SEM VINCULO          27/04/2020                          0,00   \n",
       "529907     ATIVO PERMANENTE          01/08/1986                       6612,02   \n",
       "529908     ATIVO PERMANENTE          18/03/2013                      17945,81   \n",
       "\n",
       "        REMUNERAÇÃO APÓS DEDUÇÕES OBRIGATÓRIAS (R$)  \\\n",
       "0                                       5984.979980   \n",
       "1                                      25763.789062   \n",
       "2                                       9887.940430   \n",
       "3                                      13964.879883   \n",
       "4                                       4754.040039   \n",
       "...                                             ...   \n",
       "529904                                 13156.549805   \n",
       "529905                                  4275.839844   \n",
       "529906                                 13191.980469   \n",
       "529907                                  5663.080078   \n",
       "529908                                 34428.460938   \n",
       "\n",
       "       TOTAL DE VERBAS INDENIZATÓRIAS (R$)(*)  \n",
       "0                                      991,29  \n",
       "1                                      458,00  \n",
       "2                                      458,00  \n",
       "3                                      798,12  \n",
       "4                                     1031,32  \n",
       "...                                       ...  \n",
       "529904                                 579,14  \n",
       "529905                                 732,18  \n",
       "529906                                   0,00  \n",
       "529907                                 588,71  \n",
       "529908                                 671,53  \n",
       "\n",
       "[529909 rows x 7 columns]"
      ]
     },
     "execution_count": 73,
     "metadata": {},
     "output_type": "execute_result"
    }
   ],
   "source": [
    "# Convertendo o tipo da coluna\n",
    "df_servidor_2020[\"REMUNERAÇÃO APÓS DEDUÇÕES OBRIGATÓRIAS (R$)\"] = pd.to_numeric(df_servidor_2020[\"REMUNERAÇÃO APÓS DEDUÇÕES OBRIGATÓRIAS (R$)\"],downcast='float', errors='ignore')\n",
    "df_servidor_2020"
   ]
  },
  {
   "cell_type": "markdown",
   "metadata": {},
   "source": [
    "#### Atualmente **quantos, quais e qual o efetivo** dos cargos existentes no poder executivo a nível federal?"
   ]
  },
  {
   "cell_type": "code",
   "execution_count": 74,
   "metadata": {},
   "outputs": [
    {
     "data": {
      "text/plain": [
       "DESCRICAO_CARGO\n",
       "PROFESSOR DO MAGISTERIO SUPERIOR           77664\n",
       "Sem informação                             53729\n",
       "PROFESSOR ENS BASICO TECN TECNOLOGICO      41681\n",
       "ASSISTENTE EM ADMINISTRACAO                28782\n",
       "Inválido                                   24683\n",
       "                                           ...  \n",
       "PROFESSOR DO ENSINO BASICO FEDERAL             1\n",
       "PROFESSOR DE 1  E 2  GRAUS - SUBSTITUTO        1\n",
       "AUX OPERAC ASSUNTOS CULTURAIS                  1\n",
       "PROFESSOR 1º GRAU                              1\n",
       "ESPECIALISTA - ADVOGADO                        1\n",
       "Name: DESCRICAO_CARGO, Length: 1436, dtype: int64"
      ]
     },
     "execution_count": 74,
     "metadata": {},
     "output_type": "execute_result"
    }
   ],
   "source": [
    "quantidade_cargo = df_servidor_2020.groupby(\"DESCRICAO_CARGO\")[\"DESCRICAO_CARGO\"].count().sort_values(ascending=False)\n",
    "quantidade_cargo"
   ]
  },
  {
   "cell_type": "markdown",
   "metadata": {},
   "source": [
    "* Os 10 (dez) cargos com mais servidores:"
   ]
  },
  {
   "cell_type": "code",
   "execution_count": 75,
   "metadata": {},
   "outputs": [
    {
     "data": {
      "text/plain": [
       "DESCRICAO_CARGO\n",
       "PROFESSOR DO MAGISTERIO SUPERIOR         77664\n",
       "Sem informação                           53729\n",
       "PROFESSOR ENS BASICO TECN TECNOLOGICO    41681\n",
       "ASSISTENTE EM ADMINISTRACAO              28782\n",
       "Inválido                                 24683\n",
       "AGENTE ADMINISTRATIVO                    14599\n",
       "TECNICO DO SEGURO SOCIAL                 13426\n",
       "AUXILIAR DE ENFERMAGEM                   12772\n",
       "POLICIAL RODOVIARIO FEDERAL               9992\n",
       "TECNICO DE LABORATORIO AREA               9737\n",
       "Name: DESCRICAO_CARGO, dtype: int64"
      ]
     },
     "execution_count": 75,
     "metadata": {},
     "output_type": "execute_result"
    }
   ],
   "source": [
    "#Top 10\n",
    "quantidade_cargo.head(10)"
   ]
  },
  {
   "cell_type": "markdown",
   "metadata": {},
   "source": [
    "* Cargos com menos de 20 servidores"
   ]
  },
  {
   "cell_type": "code",
   "execution_count": 76,
   "metadata": {},
   "outputs": [
    {
     "data": {
      "text/plain": [
       "959"
      ]
     },
     "execution_count": 76,
     "metadata": {},
     "output_type": "execute_result"
    }
   ],
   "source": [
    "# Cargos com menos de 20 funcionários\n",
    "(quantidade_cargo<20).sum()"
   ]
  },
  {
   "cell_type": "markdown",
   "metadata": {},
   "source": [
    "* Cargos com mais de 100 servidores"
   ]
  },
  {
   "cell_type": "code",
   "execution_count": 77,
   "metadata": {},
   "outputs": [
    {
     "data": {
      "text/plain": [
       "267"
      ]
     },
     "execution_count": 77,
     "metadata": {},
     "output_type": "execute_result"
    }
   ],
   "source": [
    "# Cargos com mais de 100 funcionários\n",
    "(quantidade_cargo>100).sum()"
   ]
  },
  {
   "cell_type": "markdown",
   "metadata": {},
   "source": [
    "- Os cargos mais comuns são os de **professores e agente/assistente administrativo**.\n",
    "\n",
    "- Observa-se ainda uma **grande quantidade de cargos**: **1.436**\n",
    "\n",
    "- Muitos cargos possuem **poucos funcionários**. Observa-se que 959 cargos possuem menos do que 20 funcionários. Apenas 267 cargos possuem mais do que 100 funcionários.\n",
    "\n",
    "- Todas essas informações corroboram com a **complexidade do funcionalismo público**, composto por diversos cargos, dentro desses, diversos níveis. Alguns cargos possuem ligação direta com uma profissão como professor ou médico, outros são mais genéricos e não permitem essa ligação direta. \n",
    "\n",
    "- Pode se notar ainda que o 2º maior efetivo é de \"Sem informação\", o que demandaria uma atualização e correção no dataset original. O cargo \"inválido\" também aparece na 5º posição. Se somarmos ambos, teríamos o 1º lugar em quantidade de funcionários, com mais de 78 mil servidores."
   ]
  },
  {
   "cell_type": "markdown",
   "metadata": {},
   "source": [
    "#### Distribuição da remuneração dentre os cargos do serviço público\n",
    "\n",
    "- A proposta foi na forma de tabela mostrar como se comporta a remuneração dentro de um mesmo cargo. Estão sendo mostradas as informações: count com a quantidade de servidores naquele carego, média, mediana, máximo,  mínimo e desvio padrão da REMUNERAÇÃO APÓS DEDUÇÕES OBRIGATÓRIAS (R\\\\$)."
   ]
  },
  {
   "cell_type": "code",
   "execution_count": 78,
   "metadata": {},
   "outputs": [
    {
     "data": {
      "text/html": [
       "<div>\n",
       "<style scoped>\n",
       "    .dataframe tbody tr th:only-of-type {\n",
       "        vertical-align: middle;\n",
       "    }\n",
       "\n",
       "    .dataframe tbody tr th {\n",
       "        vertical-align: top;\n",
       "    }\n",
       "\n",
       "    .dataframe thead th {\n",
       "        text-align: right;\n",
       "    }\n",
       "</style>\n",
       "<table border=\"1\" class=\"dataframe\">\n",
       "  <thead>\n",
       "    <tr style=\"text-align: right;\">\n",
       "      <th></th>\n",
       "      <th>DESCRICAO_CARGO</th>\n",
       "      <th>count</th>\n",
       "      <th>mean</th>\n",
       "      <th>median</th>\n",
       "      <th>max</th>\n",
       "      <th>min</th>\n",
       "      <th>std</th>\n",
       "    </tr>\n",
       "  </thead>\n",
       "  <tbody>\n",
       "    <tr>\n",
       "      <th>0</th>\n",
       "      <td>AAD-AUXILIAR ADMINISTRATIVO</td>\n",
       "      <td>5</td>\n",
       "      <td>5364.770020</td>\n",
       "      <td>5614.209961</td>\n",
       "      <td>6304.200195</td>\n",
       "      <td>4445.819824</td>\n",
       "      <td>756.797607</td>\n",
       "    </tr>\n",
       "    <tr>\n",
       "      <th>1</th>\n",
       "      <td>AAD-AUXILIAR DE RECURSOS FINANCEIROS</td>\n",
       "      <td>2</td>\n",
       "      <td>11140.310547</td>\n",
       "      <td>11140.310547</td>\n",
       "      <td>15348.280273</td>\n",
       "      <td>6932.339844</td>\n",
       "      <td>5950.968750</td>\n",
       "    </tr>\n",
       "    <tr>\n",
       "      <th>2</th>\n",
       "      <td>AAD-OPERADOR DE MICROCOMPUTADOR</td>\n",
       "      <td>1</td>\n",
       "      <td>7788.459961</td>\n",
       "      <td>7788.459961</td>\n",
       "      <td>7788.459961</td>\n",
       "      <td>7788.459961</td>\n",
       "      <td>NaN</td>\n",
       "    </tr>\n",
       "    <tr>\n",
       "      <th>3</th>\n",
       "      <td>ACOUGUEIRO</td>\n",
       "      <td>19</td>\n",
       "      <td>3547.275391</td>\n",
       "      <td>3406.219971</td>\n",
       "      <td>6850.470215</td>\n",
       "      <td>2350.169922</td>\n",
       "      <td>944.106262</td>\n",
       "    </tr>\n",
       "    <tr>\n",
       "      <th>4</th>\n",
       "      <td>ADERECISTA</td>\n",
       "      <td>1</td>\n",
       "      <td>4233.020020</td>\n",
       "      <td>4233.020020</td>\n",
       "      <td>4233.020020</td>\n",
       "      <td>4233.020020</td>\n",
       "      <td>NaN</td>\n",
       "    </tr>\n",
       "    <tr>\n",
       "      <th>...</th>\n",
       "      <td>...</td>\n",
       "      <td>...</td>\n",
       "      <td>...</td>\n",
       "      <td>...</td>\n",
       "      <td>...</td>\n",
       "      <td>...</td>\n",
       "      <td>...</td>\n",
       "    </tr>\n",
       "    <tr>\n",
       "      <th>1431</th>\n",
       "      <td>VIGIA</td>\n",
       "      <td>72</td>\n",
       "      <td>3484.818604</td>\n",
       "      <td>2946.635010</td>\n",
       "      <td>8761.000000</td>\n",
       "      <td>1108.010010</td>\n",
       "      <td>1106.995239</td>\n",
       "    </tr>\n",
       "    <tr>\n",
       "      <th>1432</th>\n",
       "      <td>VIGILANTE</td>\n",
       "      <td>2002</td>\n",
       "      <td>5987.990723</td>\n",
       "      <td>5859.640137</td>\n",
       "      <td>14729.780273</td>\n",
       "      <td>2262.510010</td>\n",
       "      <td>1109.145996</td>\n",
       "    </tr>\n",
       "    <tr>\n",
       "      <th>1433</th>\n",
       "      <td>VIGILANTE FERROVIARIO</td>\n",
       "      <td>4</td>\n",
       "      <td>2528.560059</td>\n",
       "      <td>2449.649902</td>\n",
       "      <td>2997.229980</td>\n",
       "      <td>2217.709961</td>\n",
       "      <td>331.025116</td>\n",
       "    </tr>\n",
       "    <tr>\n",
       "      <th>1434</th>\n",
       "      <td>VISITADOR SANITARIO</td>\n",
       "      <td>389</td>\n",
       "      <td>5097.369629</td>\n",
       "      <td>5136.419922</td>\n",
       "      <td>9992.139648</td>\n",
       "      <td>1741.290039</td>\n",
       "      <td>668.965027</td>\n",
       "    </tr>\n",
       "    <tr>\n",
       "      <th>1435</th>\n",
       "      <td>ZOOTECNISTA</td>\n",
       "      <td>100</td>\n",
       "      <td>7113.344238</td>\n",
       "      <td>6642.745117</td>\n",
       "      <td>13438.019531</td>\n",
       "      <td>2177.000000</td>\n",
       "      <td>2038.634521</td>\n",
       "    </tr>\n",
       "  </tbody>\n",
       "</table>\n",
       "<p>1436 rows × 7 columns</p>\n",
       "</div>"
      ],
      "text/plain": [
       "                           DESCRICAO_CARGO  count          mean        median  \\\n",
       "0              AAD-AUXILIAR ADMINISTRATIVO      5   5364.770020   5614.209961   \n",
       "1     AAD-AUXILIAR DE RECURSOS FINANCEIROS      2  11140.310547  11140.310547   \n",
       "2          AAD-OPERADOR DE MICROCOMPUTADOR      1   7788.459961   7788.459961   \n",
       "3                               ACOUGUEIRO     19   3547.275391   3406.219971   \n",
       "4                               ADERECISTA      1   4233.020020   4233.020020   \n",
       "...                                    ...    ...           ...           ...   \n",
       "1431                                 VIGIA     72   3484.818604   2946.635010   \n",
       "1432                             VIGILANTE   2002   5987.990723   5859.640137   \n",
       "1433                 VIGILANTE FERROVIARIO      4   2528.560059   2449.649902   \n",
       "1434                   VISITADOR SANITARIO    389   5097.369629   5136.419922   \n",
       "1435                           ZOOTECNISTA    100   7113.344238   6642.745117   \n",
       "\n",
       "               max          min          std  \n",
       "0      6304.200195  4445.819824   756.797607  \n",
       "1     15348.280273  6932.339844  5950.968750  \n",
       "2      7788.459961  7788.459961          NaN  \n",
       "3      6850.470215  2350.169922   944.106262  \n",
       "4      4233.020020  4233.020020          NaN  \n",
       "...            ...          ...          ...  \n",
       "1431   8761.000000  1108.010010  1106.995239  \n",
       "1432  14729.780273  2262.510010  1109.145996  \n",
       "1433   2997.229980  2217.709961   331.025116  \n",
       "1434   9992.139648  1741.290039   668.965027  \n",
       "1435  13438.019531  2177.000000  2038.634521  \n",
       "\n",
       "[1436 rows x 7 columns]"
      ]
     },
     "execution_count": 78,
     "metadata": {},
     "output_type": "execute_result"
    }
   ],
   "source": [
    "# df_servidor_2020.groupby(by=[\"DESCRICAO_CARGO\"]).agg({'REMUNERAÇÃO APÓS DEDUÇÕES OBRIGATÓRIAS (R$)':np.mean}).sort_values(ascending=False, by=\"REMUNERAÇÃO APÓS DEDUÇÕES OBRIGATÓRIAS (R$)\")\n",
    "\n",
    "df_salario_por_cargo = df_servidor_2020.groupby(\"DESCRICAO_CARGO\").agg({'DESCRICAO_CARGO':['count'],'REMUNERAÇÃO APÓS DEDUÇÕES OBRIGATÓRIAS (R$)':['mean','median','max','min','std']})\n",
    "\n",
    "df_salario_por_cargo.columns = df_salario_por_cargo.columns.droplevel(0)\n",
    "df_salario_por_cargo.sort_values(ascending=False, by=\"count\")\n",
    "\n",
    "#Transformando o indice em coluna\n",
    "df_salario_por_cargo.reset_index(inplace=True)\n",
    "df_salario_por_cargo = df_salario_por_cargo.rename(columns = {'index':'DESCRICAO_CARGO'})\n",
    "df_salario_por_cargo"
   ]
  },
  {
   "cell_type": "markdown",
   "metadata": {},
   "source": [
    "#### Considerando o Mês de Maio de 2020, Como está distribuida a remuneração no poder executivo a nível federal?"
   ]
  },
  {
   "cell_type": "markdown",
   "metadata": {},
   "source": [
    "- Para responder a pergunta, escolhi um gráfico do tipo **Boxplot** "
   ]
  },
  {
   "cell_type": "code",
   "execution_count": 79,
   "metadata": {},
   "outputs": [
    {
     "data": {
      "text/html": [
       "<div>\n",
       "<style scoped>\n",
       "    .dataframe tbody tr th:only-of-type {\n",
       "        vertical-align: middle;\n",
       "    }\n",
       "\n",
       "    .dataframe tbody tr th {\n",
       "        vertical-align: top;\n",
       "    }\n",
       "\n",
       "    .dataframe thead th {\n",
       "        text-align: right;\n",
       "    }\n",
       "</style>\n",
       "<table border=\"1\" class=\"dataframe\">\n",
       "  <thead>\n",
       "    <tr style=\"text-align: right;\">\n",
       "      <th></th>\n",
       "      <th>Id_SERVIDOR_PORTAL</th>\n",
       "      <th>DESCRICAO_CARGO</th>\n",
       "      <th>SITUACAO_VINCULO</th>\n",
       "      <th>DATA_INGRESSO_ORGAO</th>\n",
       "      <th>REMUNERAÇÃO BÁSICA BRUTA (R$)</th>\n",
       "      <th>REMUNERAÇÃO APÓS DEDUÇÕES OBRIGATÓRIAS (R$)</th>\n",
       "      <th>TOTAL DE VERBAS INDENIZATÓRIAS (R$)(*)</th>\n",
       "    </tr>\n",
       "  </thead>\n",
       "  <tbody>\n",
       "    <tr>\n",
       "      <th>0</th>\n",
       "      <td>5116961</td>\n",
       "      <td>BIBLIOTECARIO-DOCUMENTALISTA</td>\n",
       "      <td>ATIVO PERMANENTE</td>\n",
       "      <td>29/12/2008</td>\n",
       "      <td>7967,90</td>\n",
       "      <td>5984.979980</td>\n",
       "      <td>991,29</td>\n",
       "    </tr>\n",
       "    <tr>\n",
       "      <th>1</th>\n",
       "      <td>201964</td>\n",
       "      <td>ANALISTA DO BANCO CENTRAL</td>\n",
       "      <td>ATIVO PERMANENTE</td>\n",
       "      <td>NaN</td>\n",
       "      <td>34006,68</td>\n",
       "      <td>25763.789062</td>\n",
       "      <td>458,00</td>\n",
       "    </tr>\n",
       "    <tr>\n",
       "      <th>2</th>\n",
       "      <td>4405000</td>\n",
       "      <td>Sem informação</td>\n",
       "      <td>ATIVO PERMANENTE</td>\n",
       "      <td>24/07/2006</td>\n",
       "      <td>14249,03</td>\n",
       "      <td>9887.940430</td>\n",
       "      <td>458,00</td>\n",
       "    </tr>\n",
       "    <tr>\n",
       "      <th>3</th>\n",
       "      <td>4915841</td>\n",
       "      <td>PROFESSOR ENS BASICO TECN TECNOLOGICO</td>\n",
       "      <td>ATIVO PERMANENTE</td>\n",
       "      <td>29/12/2008</td>\n",
       "      <td>21007,45</td>\n",
       "      <td>13964.879883</td>\n",
       "      <td>798,12</td>\n",
       "    </tr>\n",
       "    <tr>\n",
       "      <th>4</th>\n",
       "      <td>5105492</td>\n",
       "      <td>AGENTE DE COMBATE AS ENDEMIAS</td>\n",
       "      <td>CEDIDO SUS/LEI 8270</td>\n",
       "      <td>04/09/2014</td>\n",
       "      <td>5896,78</td>\n",
       "      <td>4754.040039</td>\n",
       "      <td>1031,32</td>\n",
       "    </tr>\n",
       "    <tr>\n",
       "      <th>...</th>\n",
       "      <td>...</td>\n",
       "      <td>...</td>\n",
       "      <td>...</td>\n",
       "      <td>...</td>\n",
       "      <td>...</td>\n",
       "      <td>...</td>\n",
       "      <td>...</td>\n",
       "    </tr>\n",
       "    <tr>\n",
       "      <th>529904</th>\n",
       "      <td>216805</td>\n",
       "      <td>PROFESSOR DO MAGISTERIO SUPERIOR</td>\n",
       "      <td>ATIVO PERMANENTE</td>\n",
       "      <td>27/09/2005</td>\n",
       "      <td>19646,82</td>\n",
       "      <td>13156.549805</td>\n",
       "      <td>579,14</td>\n",
       "    </tr>\n",
       "    <tr>\n",
       "      <th>529905</th>\n",
       "      <td>1307290</td>\n",
       "      <td>AUXILIAR DE ENFERMAGEM</td>\n",
       "      <td>ATIVO PERMANENTE</td>\n",
       "      <td>23/12/1996</td>\n",
       "      <td>4801,59</td>\n",
       "      <td>4275.839844</td>\n",
       "      <td>732,18</td>\n",
       "    </tr>\n",
       "    <tr>\n",
       "      <th>529906</th>\n",
       "      <td>205958561</td>\n",
       "      <td>Inválido</td>\n",
       "      <td>SEM VINCULO</td>\n",
       "      <td>27/04/2020</td>\n",
       "      <td>0,00</td>\n",
       "      <td>13191.980469</td>\n",
       "      <td>0,00</td>\n",
       "    </tr>\n",
       "    <tr>\n",
       "      <th>529907</th>\n",
       "      <td>8504240</td>\n",
       "      <td>PROFESSOR DE 1 GRAU</td>\n",
       "      <td>ATIVO PERMANENTE</td>\n",
       "      <td>01/08/1986</td>\n",
       "      <td>6612,02</td>\n",
       "      <td>5663.080078</td>\n",
       "      <td>588,71</td>\n",
       "    </tr>\n",
       "    <tr>\n",
       "      <th>529908</th>\n",
       "      <td>8915543</td>\n",
       "      <td>PROFESSOR DO MAGISTERIO SUPERIOR</td>\n",
       "      <td>ATIVO PERMANENTE</td>\n",
       "      <td>18/03/2013</td>\n",
       "      <td>17945,81</td>\n",
       "      <td>34428.460938</td>\n",
       "      <td>671,53</td>\n",
       "    </tr>\n",
       "  </tbody>\n",
       "</table>\n",
       "<p>529909 rows × 7 columns</p>\n",
       "</div>"
      ],
      "text/plain": [
       "        Id_SERVIDOR_PORTAL                        DESCRICAO_CARGO  \\\n",
       "0                  5116961           BIBLIOTECARIO-DOCUMENTALISTA   \n",
       "1                   201964              ANALISTA DO BANCO CENTRAL   \n",
       "2                  4405000                         Sem informação   \n",
       "3                  4915841  PROFESSOR ENS BASICO TECN TECNOLOGICO   \n",
       "4                  5105492          AGENTE DE COMBATE AS ENDEMIAS   \n",
       "...                    ...                                    ...   \n",
       "529904              216805       PROFESSOR DO MAGISTERIO SUPERIOR   \n",
       "529905             1307290                 AUXILIAR DE ENFERMAGEM   \n",
       "529906           205958561                               Inválido   \n",
       "529907             8504240                    PROFESSOR DE 1 GRAU   \n",
       "529908             8915543       PROFESSOR DO MAGISTERIO SUPERIOR   \n",
       "\n",
       "           SITUACAO_VINCULO DATA_INGRESSO_ORGAO REMUNERAÇÃO BÁSICA BRUTA (R$)  \\\n",
       "0          ATIVO PERMANENTE          29/12/2008                       7967,90   \n",
       "1          ATIVO PERMANENTE                 NaN                      34006,68   \n",
       "2          ATIVO PERMANENTE          24/07/2006                      14249,03   \n",
       "3          ATIVO PERMANENTE          29/12/2008                      21007,45   \n",
       "4       CEDIDO SUS/LEI 8270          04/09/2014                       5896,78   \n",
       "...                     ...                 ...                           ...   \n",
       "529904     ATIVO PERMANENTE          27/09/2005                      19646,82   \n",
       "529905     ATIVO PERMANENTE          23/12/1996                       4801,59   \n",
       "529906          SEM VINCULO          27/04/2020                          0,00   \n",
       "529907     ATIVO PERMANENTE          01/08/1986                       6612,02   \n",
       "529908     ATIVO PERMANENTE          18/03/2013                      17945,81   \n",
       "\n",
       "        REMUNERAÇÃO APÓS DEDUÇÕES OBRIGATÓRIAS (R$)  \\\n",
       "0                                       5984.979980   \n",
       "1                                      25763.789062   \n",
       "2                                       9887.940430   \n",
       "3                                      13964.879883   \n",
       "4                                       4754.040039   \n",
       "...                                             ...   \n",
       "529904                                 13156.549805   \n",
       "529905                                  4275.839844   \n",
       "529906                                 13191.980469   \n",
       "529907                                  5663.080078   \n",
       "529908                                 34428.460938   \n",
       "\n",
       "       TOTAL DE VERBAS INDENIZATÓRIAS (R$)(*)  \n",
       "0                                      991,29  \n",
       "1                                      458,00  \n",
       "2                                      458,00  \n",
       "3                                      798,12  \n",
       "4                                     1031,32  \n",
       "...                                       ...  \n",
       "529904                                 579,14  \n",
       "529905                                 732,18  \n",
       "529906                                   0,00  \n",
       "529907                                 588,71  \n",
       "529908                                 671,53  \n",
       "\n",
       "[529909 rows x 7 columns]"
      ]
     },
     "execution_count": 79,
     "metadata": {},
     "output_type": "execute_result"
    }
   ],
   "source": [
    "#removendo NA\n",
    "# df_servidor_2020.isna().sum()\n",
    "df_servidor_2020_sem_NA_remunera = df_servidor_2020.dropna(subset=['REMUNERAÇÃO BÁSICA BRUTA (R$)'])\n",
    "df_servidor_2020_sem_NA_remunera"
   ]
  },
  {
   "cell_type": "markdown",
   "metadata": {},
   "source": [
    "* Cálculo dos quartis"
   ]
  },
  {
   "cell_type": "code",
   "execution_count": 80,
   "metadata": {},
   "outputs": [
    {
     "data": {
      "text/html": [
       "<div>\n",
       "<style scoped>\n",
       "    .dataframe tbody tr th:only-of-type {\n",
       "        vertical-align: middle;\n",
       "    }\n",
       "\n",
       "    .dataframe tbody tr th {\n",
       "        vertical-align: top;\n",
       "    }\n",
       "\n",
       "    .dataframe thead th {\n",
       "        text-align: right;\n",
       "    }\n",
       "</style>\n",
       "<table border=\"1\" class=\"dataframe\">\n",
       "  <thead>\n",
       "    <tr style=\"text-align: right;\">\n",
       "      <th></th>\n",
       "      <th>Id_SERVIDOR_PORTAL</th>\n",
       "      <th>REMUNERAÇÃO APÓS DEDUÇÕES OBRIGATÓRIAS (R$)</th>\n",
       "    </tr>\n",
       "  </thead>\n",
       "  <tbody>\n",
       "    <tr>\n",
       "      <th>0.25</th>\n",
       "      <td>2609979.0</td>\n",
       "      <td>4429.040039</td>\n",
       "    </tr>\n",
       "    <tr>\n",
       "      <th>0.50</th>\n",
       "      <td>5300234.0</td>\n",
       "      <td>6767.620117</td>\n",
       "    </tr>\n",
       "    <tr>\n",
       "      <th>0.75</th>\n",
       "      <td>7909927.0</td>\n",
       "      <td>11178.879883</td>\n",
       "    </tr>\n",
       "    <tr>\n",
       "      <th>0.90</th>\n",
       "      <td>9507802.8</td>\n",
       "      <td>14496.190430</td>\n",
       "    </tr>\n",
       "  </tbody>\n",
       "</table>\n",
       "</div>"
      ],
      "text/plain": [
       "      Id_SERVIDOR_PORTAL  REMUNERAÇÃO APÓS DEDUÇÕES OBRIGATÓRIAS (R$)\n",
       "0.25           2609979.0                                  4429.040039\n",
       "0.50           5300234.0                                  6767.620117\n",
       "0.75           7909927.0                                 11178.879883\n",
       "0.90           9507802.8                                 14496.190430"
      ]
     },
     "execution_count": 80,
     "metadata": {},
     "output_type": "execute_result"
    }
   ],
   "source": [
    "#Quartis\n",
    "quartis = df_servidor_2020.quantile([.25, .5, .75, .9])\n",
    "quartis"
   ]
  },
  {
   "cell_type": "code",
   "execution_count": 81,
   "metadata": {
    "scrolled": true
   },
   "outputs": [
    {
     "data": {
      "image/png": "[encoded data removed]",
      "text/plain": [
       "<Figure size 1008x288 with 1 Axes>"
      ]
     },
     "metadata": {},
     "output_type": "display_data"
    }
   ],
   "source": [
    "sns.set(style=\"ticks\")\n",
    "fig = plt.figure(figsize=(14, 4))\n",
    "ax = fig.add_subplot()\n",
    "plt.title('Salário (após deduções) do funcionalismo público',fontsize=18,ha='right',color='#616161')\n",
    "sns.despine()\n",
    "# Muda as cores das bordas esquerda e superior para ficarem igual ao fundo\n",
    "ax.spines['left'].set_color('lightgray')\n",
    "ax.spines['bottom'].set_color('lightgray')\n",
    "sns.boxplot(x=\"REMUNERAÇÃO APÓS DEDUÇÕES OBRIGATÓRIAS (R$)\", data=df_servidor_2020)\n",
    "    \n",
    "plt.xlabel('Valores em R$', fontsize=15)\n",
    "plt.show()"
   ]
  },
  {
   "cell_type": "markdown",
   "metadata": {},
   "source": [
    "Iremos gerar o mesmo gráfico novamente, mas restringindo o eixo x para os valores entre os 1º e 3º Quartis. A análise dos dois será feita a seguir."
   ]
  },
  {
   "cell_type": "code",
   "execution_count": 82,
   "metadata": {
    "scrolled": true
   },
   "outputs": [
    {
     "data": {
      "image/png": "[encoded data removed]",
      "text/plain": [
       "<Figure size 1008x288 with 1 Axes>"
      ]
     },
     "metadata": {},
     "output_type": "display_data"
    }
   ],
   "source": [
    "sns.set(style=\"ticks\")\n",
    "fig = plt.figure(figsize=(14, 4))\n",
    "ax = fig.add_subplot()\n",
    "plt.title('Salário (após deduções) do funcionalismo público',fontsize=18,ha='right',color='#616161')\n",
    "sns.despine()\n",
    "# Muda as cores das bordas esquerda e superior para ficarem igual ao fundo\n",
    "ax.spines['left'].set_color('lightgray')\n",
    "ax.spines['bottom'].set_color('lightgray')\n",
    "sns.boxplot(x=\"REMUNERAÇÃO APÓS DEDUÇÕES OBRIGATÓRIAS (R$)\", data=df_servidor_2020)\n",
    "    \n",
    "plt.xlabel('Valores em R$', fontsize=15)\n",
    "plt.xlim(3000, 12000)\n",
    "plt.show()"
   ]
  },
  {
   "cell_type": "markdown",
   "metadata": {},
   "source": [
    "- Pode-se observar que a mediana se encontra abaixo dos R\\\\$7.000,00. Assim, tem-se categorias (cargos) que ganham mais e outras menos, como é esperado em qualquer estrutura complexa como  o poder executivo federal.\n",
    "Entretanto, tem-se alguns pontos acima do máximo. Isso mostra **como é difícil fazer conclusões genéricas** do tipo \"todo funcionário público ganha bem\". Até mesmo porque o conceito de \"ganhar bem\" não é preciso e varia de acordo com profissão, anos de experiência, localidade, jornada de trabalho entre outros.\n",
    "\n",
    "\n",
    "- O fato dos 1º, 2º e 3º Quartis estarem abaixo dos R\\\\$11.200,00 indica que a grande maioria dos servidores (75%) ganha menos do que esse valor. Mesmo assim existem pontos fora desse padrão e que estão acima dos R\\\\$20.000,00"
   ]
  },
  {
   "cell_type": "code",
   "execution_count": 83,
   "metadata": {},
   "outputs": [],
   "source": [
    "#Criação da variável ano\n",
    "salario_ingresso= df_servidor_2020[['DESCRICAO_CARGO','DATA_INGRESSO_ORGAO','REMUNERAÇÃO APÓS DEDUÇÕES OBRIGATÓRIAS (R$)','SITUACAO_VINCULO']]\n",
    "\n",
    "salario_ingresso.dropna(subset=['DATA_INGRESSO_ORGAO'], inplace=True)\n",
    "\n",
    "#Conertendo o String para data\n",
    "salario_ingresso.loc[:,'DATA_INGRESSO_ORGAO'] = pd.to_datetime(salario_ingresso.loc[:,'DATA_INGRESSO_ORGAO'], format='%d/%m/%Y')\n",
    "# salario_ingresso"
   ]
  },
  {
   "cell_type": "markdown",
   "metadata": {},
   "source": [
    "- Adicionaremos ao dataframe anterior uma coluna denominada ano"
   ]
  },
  {
   "cell_type": "code",
   "execution_count": 84,
   "metadata": {},
   "outputs": [
    {
     "data": {
      "text/html": [
       "<div>\n",
       "<style scoped>\n",
       "    .dataframe tbody tr th:only-of-type {\n",
       "        vertical-align: middle;\n",
       "    }\n",
       "\n",
       "    .dataframe tbody tr th {\n",
       "        vertical-align: top;\n",
       "    }\n",
       "\n",
       "    .dataframe thead th {\n",
       "        text-align: right;\n",
       "    }\n",
       "</style>\n",
       "<table border=\"1\" class=\"dataframe\">\n",
       "  <thead>\n",
       "    <tr style=\"text-align: right;\">\n",
       "      <th></th>\n",
       "      <th>DESCRICAO_CARGO</th>\n",
       "      <th>DATA_INGRESSO_ORGAO</th>\n",
       "      <th>REMUNERAÇÃO APÓS DEDUÇÕES OBRIGATÓRIAS (R$)</th>\n",
       "      <th>SITUACAO_VINCULO</th>\n",
       "      <th>ano</th>\n",
       "    </tr>\n",
       "  </thead>\n",
       "  <tbody>\n",
       "    <tr>\n",
       "      <th>0</th>\n",
       "      <td>BIBLIOTECARIO-DOCUMENTALISTA</td>\n",
       "      <td>2008-12-29</td>\n",
       "      <td>5984.979980</td>\n",
       "      <td>ATIVO PERMANENTE</td>\n",
       "      <td>2008</td>\n",
       "    </tr>\n",
       "    <tr>\n",
       "      <th>2</th>\n",
       "      <td>Sem informação</td>\n",
       "      <td>2006-07-24</td>\n",
       "      <td>9887.940430</td>\n",
       "      <td>ATIVO PERMANENTE</td>\n",
       "      <td>2006</td>\n",
       "    </tr>\n",
       "    <tr>\n",
       "      <th>3</th>\n",
       "      <td>PROFESSOR ENS BASICO TECN TECNOLOGICO</td>\n",
       "      <td>2008-12-29</td>\n",
       "      <td>13964.879883</td>\n",
       "      <td>ATIVO PERMANENTE</td>\n",
       "      <td>2008</td>\n",
       "    </tr>\n",
       "    <tr>\n",
       "      <th>4</th>\n",
       "      <td>AGENTE DE COMBATE AS ENDEMIAS</td>\n",
       "      <td>2014-09-04</td>\n",
       "      <td>4754.040039</td>\n",
       "      <td>CEDIDO SUS/LEI 8270</td>\n",
       "      <td>2014</td>\n",
       "    </tr>\n",
       "    <tr>\n",
       "      <th>5</th>\n",
       "      <td>AGENTE ADMINISTRATIVO</td>\n",
       "      <td>2012-02-23</td>\n",
       "      <td>4264.970215</td>\n",
       "      <td>ATIVO PERMANENTE</td>\n",
       "      <td>2012</td>\n",
       "    </tr>\n",
       "    <tr>\n",
       "      <th>...</th>\n",
       "      <td>...</td>\n",
       "      <td>...</td>\n",
       "      <td>...</td>\n",
       "      <td>...</td>\n",
       "      <td>...</td>\n",
       "    </tr>\n",
       "    <tr>\n",
       "      <th>529904</th>\n",
       "      <td>PROFESSOR DO MAGISTERIO SUPERIOR</td>\n",
       "      <td>2005-09-27</td>\n",
       "      <td>13156.549805</td>\n",
       "      <td>ATIVO PERMANENTE</td>\n",
       "      <td>2005</td>\n",
       "    </tr>\n",
       "    <tr>\n",
       "      <th>529905</th>\n",
       "      <td>AUXILIAR DE ENFERMAGEM</td>\n",
       "      <td>1996-12-23</td>\n",
       "      <td>4275.839844</td>\n",
       "      <td>ATIVO PERMANENTE</td>\n",
       "      <td>1996</td>\n",
       "    </tr>\n",
       "    <tr>\n",
       "      <th>529906</th>\n",
       "      <td>Inválido</td>\n",
       "      <td>2020-04-27</td>\n",
       "      <td>13191.980469</td>\n",
       "      <td>SEM VINCULO</td>\n",
       "      <td>2020</td>\n",
       "    </tr>\n",
       "    <tr>\n",
       "      <th>529907</th>\n",
       "      <td>PROFESSOR DE 1 GRAU</td>\n",
       "      <td>1986-08-01</td>\n",
       "      <td>5663.080078</td>\n",
       "      <td>ATIVO PERMANENTE</td>\n",
       "      <td>1986</td>\n",
       "    </tr>\n",
       "    <tr>\n",
       "      <th>529908</th>\n",
       "      <td>PROFESSOR DO MAGISTERIO SUPERIOR</td>\n",
       "      <td>2013-03-18</td>\n",
       "      <td>34428.460938</td>\n",
       "      <td>ATIVO PERMANENTE</td>\n",
       "      <td>2013</td>\n",
       "    </tr>\n",
       "  </tbody>\n",
       "</table>\n",
       "<p>528524 rows × 5 columns</p>\n",
       "</div>"
      ],
      "text/plain": [
       "                              DESCRICAO_CARGO DATA_INGRESSO_ORGAO  \\\n",
       "0                BIBLIOTECARIO-DOCUMENTALISTA          2008-12-29   \n",
       "2                              Sem informação          2006-07-24   \n",
       "3       PROFESSOR ENS BASICO TECN TECNOLOGICO          2008-12-29   \n",
       "4               AGENTE DE COMBATE AS ENDEMIAS          2014-09-04   \n",
       "5                       AGENTE ADMINISTRATIVO          2012-02-23   \n",
       "...                                       ...                 ...   \n",
       "529904       PROFESSOR DO MAGISTERIO SUPERIOR          2005-09-27   \n",
       "529905                 AUXILIAR DE ENFERMAGEM          1996-12-23   \n",
       "529906                               Inválido          2020-04-27   \n",
       "529907                    PROFESSOR DE 1 GRAU          1986-08-01   \n",
       "529908       PROFESSOR DO MAGISTERIO SUPERIOR          2013-03-18   \n",
       "\n",
       "        REMUNERAÇÃO APÓS DEDUÇÕES OBRIGATÓRIAS (R$)     SITUACAO_VINCULO   ano  \n",
       "0                                       5984.979980     ATIVO PERMANENTE  2008  \n",
       "2                                       9887.940430     ATIVO PERMANENTE  2006  \n",
       "3                                      13964.879883     ATIVO PERMANENTE  2008  \n",
       "4                                       4754.040039  CEDIDO SUS/LEI 8270  2014  \n",
       "5                                       4264.970215     ATIVO PERMANENTE  2012  \n",
       "...                                             ...                  ...   ...  \n",
       "529904                                 13156.549805     ATIVO PERMANENTE  2005  \n",
       "529905                                  4275.839844     ATIVO PERMANENTE  1996  \n",
       "529906                                 13191.980469          SEM VINCULO  2020  \n",
       "529907                                  5663.080078     ATIVO PERMANENTE  1986  \n",
       "529908                                 34428.460938     ATIVO PERMANENTE  2013  \n",
       "\n",
       "[528524 rows x 5 columns]"
      ]
     },
     "execution_count": 84,
     "metadata": {},
     "output_type": "execute_result"
    }
   ],
   "source": [
    "salario_ingresso['ano']= salario_ingresso['DATA_INGRESSO_ORGAO'].dt.year\n",
    "salario_ingresso"
   ]
  },
  {
   "cell_type": "markdown",
   "metadata": {},
   "source": [
    "Ainda na análise salarial, podemos selecionar algumas profissões como **médico**, **engenheiro**, **professor** e **advogado** e analisar algumas métricas dessas profissões. Pontuo mais uma vez que nem todo cargo possui uma relação direta com uma profissão. E mesmo nos cargos relacionados a essas profissões existe um universo com variada experiência profissional. "
   ]
  },
  {
   "cell_type": "markdown",
   "metadata": {},
   "source": [
    "- Adicionaremos ao dataframe anterior uma coluna denominada profissão"
   ]
  },
  {
   "cell_type": "code",
   "execution_count": 85,
   "metadata": {},
   "outputs": [],
   "source": [
    "def profissao(df):\n",
    "    profissao=\"OUTROS\"\n",
    "    if(\"MEDICO\" in df):\n",
    "        #Verifiquei que alguns cargos tem a palavra medicina no nome mas não eram medicina voltada para atendimento humano.\n",
    "        if((('BIO' not in df)and('VETERINA' not in df)and(\"ODONTOL\" not in df)and(\"HOSPITA\" not in df))):\n",
    "            profissao=\"MEDICO\"\n",
    "    if (\"ENGENHEIRO\" in df):\n",
    "        profissao=\"ENGENHEIRO\"\n",
    "    if(\"ADVOGADO\" in df):\n",
    "        profissao=\"ADVOGADO\"\n",
    "    if(  \"PROFESSOR\" in df ):\n",
    "        profissao=\"PROFESSOR\" \n",
    "        \n",
    "    return profissao    "
   ]
  },
  {
   "cell_type": "code",
   "execution_count": 86,
   "metadata": {},
   "outputs": [],
   "source": [
    "salario_ingresso['profissao']= salario_ingresso['DESCRICAO_CARGO'].apply(profissao)"
   ]
  },
  {
   "cell_type": "code",
   "execution_count": 87,
   "metadata": {},
   "outputs": [
    {
     "data": {
      "text/html": [
       "<div>\n",
       "<style scoped>\n",
       "    .dataframe tbody tr th:only-of-type {\n",
       "        vertical-align: middle;\n",
       "    }\n",
       "\n",
       "    .dataframe tbody tr th {\n",
       "        vertical-align: top;\n",
       "    }\n",
       "\n",
       "    .dataframe thead th {\n",
       "        text-align: right;\n",
       "    }\n",
       "</style>\n",
       "<table border=\"1\" class=\"dataframe\">\n",
       "  <thead>\n",
       "    <tr style=\"text-align: right;\">\n",
       "      <th></th>\n",
       "      <th>DESCRICAO_CARGO</th>\n",
       "      <th>DATA_INGRESSO_ORGAO</th>\n",
       "      <th>REMUNERAÇÃO APÓS DEDUÇÕES OBRIGATÓRIAS (R$)</th>\n",
       "      <th>SITUACAO_VINCULO</th>\n",
       "      <th>ano</th>\n",
       "      <th>profissao</th>\n",
       "    </tr>\n",
       "  </thead>\n",
       "  <tbody>\n",
       "    <tr>\n",
       "      <th>0</th>\n",
       "      <td>BIBLIOTECARIO-DOCUMENTALISTA</td>\n",
       "      <td>2008-12-29</td>\n",
       "      <td>5984.979980</td>\n",
       "      <td>ATIVO PERMANENTE</td>\n",
       "      <td>2008</td>\n",
       "      <td>OUTROS</td>\n",
       "    </tr>\n",
       "    <tr>\n",
       "      <th>2</th>\n",
       "      <td>Sem informação</td>\n",
       "      <td>2006-07-24</td>\n",
       "      <td>9887.940430</td>\n",
       "      <td>ATIVO PERMANENTE</td>\n",
       "      <td>2006</td>\n",
       "      <td>OUTROS</td>\n",
       "    </tr>\n",
       "    <tr>\n",
       "      <th>3</th>\n",
       "      <td>PROFESSOR ENS BASICO TECN TECNOLOGICO</td>\n",
       "      <td>2008-12-29</td>\n",
       "      <td>13964.879883</td>\n",
       "      <td>ATIVO PERMANENTE</td>\n",
       "      <td>2008</td>\n",
       "      <td>PROFESSOR</td>\n",
       "    </tr>\n",
       "    <tr>\n",
       "      <th>4</th>\n",
       "      <td>AGENTE DE COMBATE AS ENDEMIAS</td>\n",
       "      <td>2014-09-04</td>\n",
       "      <td>4754.040039</td>\n",
       "      <td>CEDIDO SUS/LEI 8270</td>\n",
       "      <td>2014</td>\n",
       "      <td>OUTROS</td>\n",
       "    </tr>\n",
       "    <tr>\n",
       "      <th>5</th>\n",
       "      <td>AGENTE ADMINISTRATIVO</td>\n",
       "      <td>2012-02-23</td>\n",
       "      <td>4264.970215</td>\n",
       "      <td>ATIVO PERMANENTE</td>\n",
       "      <td>2012</td>\n",
       "      <td>OUTROS</td>\n",
       "    </tr>\n",
       "    <tr>\n",
       "      <th>...</th>\n",
       "      <td>...</td>\n",
       "      <td>...</td>\n",
       "      <td>...</td>\n",
       "      <td>...</td>\n",
       "      <td>...</td>\n",
       "      <td>...</td>\n",
       "    </tr>\n",
       "    <tr>\n",
       "      <th>529904</th>\n",
       "      <td>PROFESSOR DO MAGISTERIO SUPERIOR</td>\n",
       "      <td>2005-09-27</td>\n",
       "      <td>13156.549805</td>\n",
       "      <td>ATIVO PERMANENTE</td>\n",
       "      <td>2005</td>\n",
       "      <td>PROFESSOR</td>\n",
       "    </tr>\n",
       "    <tr>\n",
       "      <th>529905</th>\n",
       "      <td>AUXILIAR DE ENFERMAGEM</td>\n",
       "      <td>1996-12-23</td>\n",
       "      <td>4275.839844</td>\n",
       "      <td>ATIVO PERMANENTE</td>\n",
       "      <td>1996</td>\n",
       "      <td>OUTROS</td>\n",
       "    </tr>\n",
       "    <tr>\n",
       "      <th>529906</th>\n",
       "      <td>Inválido</td>\n",
       "      <td>2020-04-27</td>\n",
       "      <td>13191.980469</td>\n",
       "      <td>SEM VINCULO</td>\n",
       "      <td>2020</td>\n",
       "      <td>OUTROS</td>\n",
       "    </tr>\n",
       "    <tr>\n",
       "      <th>529907</th>\n",
       "      <td>PROFESSOR DE 1 GRAU</td>\n",
       "      <td>1986-08-01</td>\n",
       "      <td>5663.080078</td>\n",
       "      <td>ATIVO PERMANENTE</td>\n",
       "      <td>1986</td>\n",
       "      <td>PROFESSOR</td>\n",
       "    </tr>\n",
       "    <tr>\n",
       "      <th>529908</th>\n",
       "      <td>PROFESSOR DO MAGISTERIO SUPERIOR</td>\n",
       "      <td>2013-03-18</td>\n",
       "      <td>34428.460938</td>\n",
       "      <td>ATIVO PERMANENTE</td>\n",
       "      <td>2013</td>\n",
       "      <td>PROFESSOR</td>\n",
       "    </tr>\n",
       "  </tbody>\n",
       "</table>\n",
       "<p>528524 rows × 6 columns</p>\n",
       "</div>"
      ],
      "text/plain": [
       "                              DESCRICAO_CARGO DATA_INGRESSO_ORGAO  \\\n",
       "0                BIBLIOTECARIO-DOCUMENTALISTA          2008-12-29   \n",
       "2                              Sem informação          2006-07-24   \n",
       "3       PROFESSOR ENS BASICO TECN TECNOLOGICO          2008-12-29   \n",
       "4               AGENTE DE COMBATE AS ENDEMIAS          2014-09-04   \n",
       "5                       AGENTE ADMINISTRATIVO          2012-02-23   \n",
       "...                                       ...                 ...   \n",
       "529904       PROFESSOR DO MAGISTERIO SUPERIOR          2005-09-27   \n",
       "529905                 AUXILIAR DE ENFERMAGEM          1996-12-23   \n",
       "529906                               Inválido          2020-04-27   \n",
       "529907                    PROFESSOR DE 1 GRAU          1986-08-01   \n",
       "529908       PROFESSOR DO MAGISTERIO SUPERIOR          2013-03-18   \n",
       "\n",
       "        REMUNERAÇÃO APÓS DEDUÇÕES OBRIGATÓRIAS (R$)     SITUACAO_VINCULO  \\\n",
       "0                                       5984.979980     ATIVO PERMANENTE   \n",
       "2                                       9887.940430     ATIVO PERMANENTE   \n",
       "3                                      13964.879883     ATIVO PERMANENTE   \n",
       "4                                       4754.040039  CEDIDO SUS/LEI 8270   \n",
       "5                                       4264.970215     ATIVO PERMANENTE   \n",
       "...                                             ...                  ...   \n",
       "529904                                 13156.549805     ATIVO PERMANENTE   \n",
       "529905                                  4275.839844     ATIVO PERMANENTE   \n",
       "529906                                 13191.980469          SEM VINCULO   \n",
       "529907                                  5663.080078     ATIVO PERMANENTE   \n",
       "529908                                 34428.460938     ATIVO PERMANENTE   \n",
       "\n",
       "         ano  profissao  \n",
       "0       2008     OUTROS  \n",
       "2       2006     OUTROS  \n",
       "3       2008  PROFESSOR  \n",
       "4       2014     OUTROS  \n",
       "5       2012     OUTROS  \n",
       "...      ...        ...  \n",
       "529904  2005  PROFESSOR  \n",
       "529905  1996     OUTROS  \n",
       "529906  2020     OUTROS  \n",
       "529907  1986  PROFESSOR  \n",
       "529908  2013  PROFESSOR  \n",
       "\n",
       "[528524 rows x 6 columns]"
      ]
     },
     "execution_count": 87,
     "metadata": {},
     "output_type": "execute_result"
    }
   ],
   "source": [
    "salario_ingresso"
   ]
  },
  {
   "cell_type": "code",
   "execution_count": 88,
   "metadata": {},
   "outputs": [
    {
     "data": {
      "image/png": "[encoded data removed]",
      "text/plain": [
       "<Figure size 1152x576 with 1 Axes>"
      ]
     },
     "metadata": {},
     "output_type": "display_data"
    }
   ],
   "source": [
    "sns.set(style=\"ticks\")\n",
    "fig = plt.figure(figsize=(16, 8))\n",
    "ax = fig.add_subplot()\n",
    "plt.title('Salário (após deduções) do funcionalismo público por categorias/profissões',fontsize=18,ha='right',color='#616161')\n",
    "sns.despine()\n",
    "\n",
    "# Muda as cores das bordas esquerda e superior para ficarem igual ao fundo\n",
    "ax.spines['left'].set_color('lightgray')\n",
    "ax.spines['bottom'].set_color('lightgray')\n",
    "\n",
    "sns.boxplot(x=\"profissao\",y=\"REMUNERAÇÃO APÓS DEDUÇÕES OBRIGATÓRIAS (R$)\",  data=salario_ingresso);\n",
    "plt.ylabel('Valores em R$', fontsize=15)\n",
    "plt.xlabel('Profissões', fontsize=15)\n",
    "plt.show()"
   ]
  },
  {
   "cell_type": "markdown",
   "metadata": {},
   "source": [
    "- O gráfico acima compara as 4 profissões escolhidas (Professor, Médico, Engenheiro e Advogado) com as outras profissões (Outros)).\n",
    "\n",
    "\n",
    "- Pode-se observar que os advogados possuem seu boxplot acima das outras profissões. Inclusive a mediana dos Advogados está acima do limite superior de todas outras profissões, exceto dos médicos. Os Advogados também são os que possuem a menor distância interquartil (1º e 3º quartis). Esse fato indica uma maior igualdade salarial dentre os seus profissionais quando comparados com as outras (Professor, Médico, Engenheiro e Outros). \n",
    "\n",
    "\n",
    "- Os médicos são os que possuem a maior distância interquartil, caracterizando uma diferença salarial maior entre o 1º e 3º quartil. Vale destacar também que o limite superior dos médicos é o mais alto.  \n",
    "\n",
    "\n",
    "- Nota-se que todas as profissões possuem pontos destoantes acima do limite superior. Quanto aos pontos abaixo, são mais perceptíveis nos \"Outros\",\"Professor\" e \"advogado\". Demonstrando profissionais que ganham destoante da maioria. "
   ]
  },
  {
   "cell_type": "markdown",
   "metadata": {},
   "source": [
    "Podemos comparar a data de ingresso no funcionalismo com o salário atual do servidor:"
   ]
  },
  {
   "cell_type": "code",
   "execution_count": 89,
   "metadata": {},
   "outputs": [],
   "source": [
    "def decada(ano):\n",
    "    \n",
    "    if ano<1950: decada='40'\n",
    "    elif ano<1960: decada='50'\n",
    "    elif ano<1970: decada='60'    \n",
    "    elif ano<1980: decada='70'  \n",
    "    elif ano<1990: decada='80' \n",
    "    elif ano<2000: decada='90'\n",
    "    elif ano<2010: decada='2000'\n",
    "    elif ano<2020: decada='2010'\n",
    "    elif ano<2030: decada='2020'\n",
    "    return decada            "
   ]
  },
  {
   "cell_type": "code",
   "execution_count": 90,
   "metadata": {},
   "outputs": [
    {
     "data": {
      "text/plain": [
       "0         2000\n",
       "2         2000\n",
       "3         2000\n",
       "4         2010\n",
       "5         2010\n",
       "          ... \n",
       "529904    2000\n",
       "529905      90\n",
       "529906    2020\n",
       "529907      80\n",
       "529908    2010\n",
       "Name: decada, Length: 528524, dtype: category\n",
       "Categories (9, object): [40 < 50 < 60 < 70 ... 90 < 2000 < 2010 < 2020]"
      ]
     },
     "execution_count": 90,
     "metadata": {},
     "output_type": "execute_result"
    }
   ],
   "source": [
    "salario_ingresso['decada']= salario_ingresso['ano'].apply(decada)\n",
    "salario_ingresso['decada'].astype('category')\n",
    "cat_dtype = pd.api.types.CategoricalDtype(categories = ['40', '50', '60', '70', '80','90','2000','2010','2020'],ordered=True)\n",
    "salario_ingresso['decada'].astype(cat_dtype)"
   ]
  },
  {
   "cell_type": "code",
   "execution_count": 91,
   "metadata": {},
   "outputs": [
    {
     "data": {
      "text/html": [
       "<div>\n",
       "<style scoped>\n",
       "    .dataframe tbody tr th:only-of-type {\n",
       "        vertical-align: middle;\n",
       "    }\n",
       "\n",
       "    .dataframe tbody tr th {\n",
       "        vertical-align: top;\n",
       "    }\n",
       "\n",
       "    .dataframe thead th {\n",
       "        text-align: right;\n",
       "    }\n",
       "</style>\n",
       "<table border=\"1\" class=\"dataframe\">\n",
       "  <thead>\n",
       "    <tr style=\"text-align: right;\">\n",
       "      <th></th>\n",
       "      <th>Período</th>\n",
       "      <th>Quantidade de servidores</th>\n",
       "    </tr>\n",
       "  </thead>\n",
       "  <tbody>\n",
       "    <tr>\n",
       "      <th>3</th>\n",
       "      <td>50</td>\n",
       "      <td>3</td>\n",
       "    </tr>\n",
       "    <tr>\n",
       "      <th>4</th>\n",
       "      <td>60</td>\n",
       "      <td>415</td>\n",
       "    </tr>\n",
       "    <tr>\n",
       "      <th>5</th>\n",
       "      <td>70</td>\n",
       "      <td>14346</td>\n",
       "    </tr>\n",
       "    <tr>\n",
       "      <th>6</th>\n",
       "      <td>80</td>\n",
       "      <td>49483</td>\n",
       "    </tr>\n",
       "    <tr>\n",
       "      <th>7</th>\n",
       "      <td>90</td>\n",
       "      <td>46691</td>\n",
       "    </tr>\n",
       "    <tr>\n",
       "      <th>0</th>\n",
       "      <td>2000</td>\n",
       "      <td>123299</td>\n",
       "    </tr>\n",
       "    <tr>\n",
       "      <th>1</th>\n",
       "      <td>2010</td>\n",
       "      <td>284564</td>\n",
       "    </tr>\n",
       "    <tr>\n",
       "      <th>2</th>\n",
       "      <td>2020</td>\n",
       "      <td>9723</td>\n",
       "    </tr>\n",
       "  </tbody>\n",
       "</table>\n",
       "</div>"
      ],
      "text/plain": [
       "  Período  Quantidade de servidores\n",
       "3      50                         3\n",
       "4      60                       415\n",
       "5      70                     14346\n",
       "6      80                     49483\n",
       "7      90                     46691\n",
       "0    2000                    123299\n",
       "1    2010                    284564\n",
       "2    2020                      9723"
      ]
     },
     "execution_count": 91,
     "metadata": {},
     "output_type": "execute_result"
    }
   ],
   "source": [
    "salario_ingresso_ano = salario_ingresso.groupby(\"decada\").agg({'decada':['count']})\n",
    "salario_ingresso_ano.columns = salario_ingresso_ano.columns.droplevel(0)\n",
    "\n",
    "salario_ingresso_ano\n",
    "\n",
    "salario_ingresso_ano.reset_index(inplace=True)\n",
    "salario_ingresso_ano = salario_ingresso_ano.rename(columns = {'decada':'Período','count':\"Quantidade de servidores\"})\n",
    "\n",
    "salario_ingresso_ano= salario_ingresso_ano.reindex([3,4,5,6,7,0,1,2])\n",
    "salario_ingresso_ano"
   ]
  },
  {
   "cell_type": "code",
   "execution_count": 92,
   "metadata": {},
   "outputs": [
    {
     "data": {
      "text/plain": [
       "12.155928586024476"
      ]
     },
     "execution_count": 92,
     "metadata": {},
     "output_type": "execute_result"
    }
   ],
   "source": [
    "#Total de servidores analisados: 528524\n",
    "salario_ingresso_ano['Quantidade de servidores'].sum()\n",
    "\n",
    "#Total de servidores que ingressaram antes da década de 90: 64247\n",
    "salario_ingresso_ano[3:7]['Quantidade de servidores'].sum()\n",
    "percentual_antes_90= 64247*100/528524\n",
    "percentual_antes_90"
   ]
  },
  {
   "cell_type": "markdown",
   "metadata": {},
   "source": [
    "#### Como se dá a composição atual dos quadros do funcionalismo no que se refere à década de admissão?"
   ]
  },
  {
   "cell_type": "code",
   "execution_count": 93,
   "metadata": {},
   "outputs": [
    {
     "data": {
      "image/png": "[encoded data removed]",
      "text/plain": [
       "<Figure size 1080x576 with 1 Axes>"
      ]
     },
     "metadata": {},
     "output_type": "display_data"
    }
   ],
   "source": [
    "fig = plt.figure(figsize=(15,8))\n",
    "ax = fig.add_subplot()\n",
    "\n",
    "plt.title('Composição atual do funcionalismo público (década de admissão)',fontsize=18,ha='right',color='#616161')\n",
    "sns.despine()\n",
    "# Muda as cores das bordas esquerda e superior para ficarem igual ao fundo\n",
    "ax.spines['left'].set_color('lightgray')\n",
    "ax.spines['bottom'].set_color('lightgray')\n",
    "\n",
    "sns.barplot(x='Período', y='Quantidade de servidores', data=salario_ingresso_ano,order = ['60','70','80','90','2000','2010','2020'])\n",
    "plt.show()"
   ]
  },
  {
   "cell_type": "markdown",
   "metadata": {},
   "source": [
    "- A data de admissão dos funcionários foi dividida por períodos de 10 anos através da função década. 60 indica admissões entre 1960 e 1969; 70 entre 1970 e 1979 e assim por diante.\n",
    "\n",
    "\n",
    "- O Gráfico mostra que entre os anos 2010 e 2020 houve uma grande admissão de servidores no funcionalismo público federal. Há que se considerar que os funcionários aposentados ou falecidos não figuram na base analisada. Assim, seria equivocado concluir que a admissão a partir de 2010 foi superior à da década de 70.\n",
    "\n",
    "\n",
    "- O que o gráfico nos mostra é a **composição atual** dos quadros. Tem-se um grande quantitativo (cerca de **64247**) de funcionários públicos que foram admitidos **antes da década de 90**, e que por isso já teriam **mais de 30 anos de serviço público**. Dessa forma, é possível inferir a necessidade futura de reposição dos quadros. "
   ]
  },
  {
   "cell_type": "code",
   "execution_count": 94,
   "metadata": {},
   "outputs": [],
   "source": [
    "decada_ingresso_prof = salario_ingresso.groupby([\"decada\",\"profissao\"]).agg({'decada':['count']})\n",
    "decada_ingresso_prof.columns = decada_ingresso_prof.columns.droplevel(0)\n",
    "\n",
    "decada_ingresso_prof \n",
    "\n",
    "decada_ingresso_prof.reset_index(inplace=True)\n",
    "\n",
    "decada_ingresso_prof = decada_ingresso_prof.loc[(decada_ingresso_prof.profissao != \"OUTROS\")] \n",
    "\n",
    "# decada_ingresso_prof = salario_ingresso_ano.rename(columns = {'decada':'Período','count':\"Quantidade de servidores\"})\n",
    "# decada_ingresso_prof"
   ]
  },
  {
   "cell_type": "code",
   "execution_count": 95,
   "metadata": {},
   "outputs": [
    {
     "data": {
      "image/png": "[encoded data removed]",
      "text/plain": [
       "<Figure size 1080x576 with 1 Axes>"
      ]
     },
     "metadata": {},
     "output_type": "display_data"
    }
   ],
   "source": [
    "fig = plt.figure(figsize=(15,8))\n",
    "ax = fig.add_subplot()\n",
    "\n",
    "plt.title('Admissão por décadas separada por categorias',fontsize=18,ha='right',color='#616161')\n",
    "sns.despine()\n",
    "# Muda as cores das bordas esquerda e superior para ficarem igual ao fundo\n",
    "ax.spines['left'].set_color('lightgray')\n",
    "ax.spines['bottom'].set_color('lightgray')\n",
    "\n",
    "sns.barplot(x='decada', y='count',hue=\"profissao\", data=decada_ingresso_prof,order = ['60','70','80','90','2000','2010','2020'])\n",
    "plt.ylabel('Quantidade', fontsize=15)\n",
    "plt.xlabel('Profissões', fontsize=15)\n",
    "plt.show()"
   ]
  },
  {
   "cell_type": "markdown",
   "metadata": {},
   "source": [
    "- O gráfico mostra a grande contratação de professores no intervalo 2010-2019. Mesmo dentro da profissão de Professor, esse ano representou quase 3 vezes as contratações do 2º maior período (2000-2009).\n",
    "\n",
    "\n",
    "- Todas as 4 profissões analisadas tiveram seu maior índice de admissão, em relação a composição atual dos quadros, no período 2010-2019, exceto para os Advogados.\n",
    "\n",
    "\n",
    "- Vale mais uma vez destacar que a data de contratação refere-se aos funcionários no serviço ativo. "
   ]
  },
  {
   "cell_type": "markdown",
   "metadata": {},
   "source": [
    "### Conclusões e Achados"
   ]
  },
  {
   "cell_type": "markdown",
   "metadata": {
    "deletable": false,
    "nbgrader": {
     "cell_type": "code",
     "checksum": "ed8f7ca2c43fce1ff35f8abec6e508ae",
     "grade": true,
     "grade_id": "cell-06eb20edabcbb6c1",
     "locked": false,
     "points": 1,
     "schema_version": 3,
     "solution": true,
     "task": false
    }
   },
   "source": [
    "Com a presente análise ficou clara a **complexidade dos quadros** que compõem o serviço público. São mais de 1.436 cargos. O dataset original possui dados cadastrais de **765.091** e dados remuneratórios de **549.473** **servidores federais do Poder Executivo**. O dataset em tela refere-se a remuneração de Maio de 2020.\n",
    "\n",
    "\n",
    "Considerando o dataset analisado, existem 1.435 cargos. Sendo os mais comuns os de **professor e agente/assistente administrativo**.  \n"
   ]
  },
  {
   "cell_type": "markdown",
   "metadata": {
    "deletable": false,
    "nbgrader": {
     "cell_type": "code",
     "checksum": "0bc4dbb79aa45bd2dda25e7a19cb8c46",
     "grade": true,
     "grade_id": "cell-4727d55417ba9b09",
     "locked": false,
     "points": 1,
     "schema_version": 3,
     "solution": true,
     "task": false
    }
   },
   "source": [
    "Na análise remuneratória, a mediana se encontra abaixo dos R\\\\$7.000,00. O fato dos 1º, 2º e 3º Quartis estarem abaixo dos R$11.200,00 indica que a grande maioria dos servidores (75%) ganha menos do que esse valor. Mesmo assim existem pontos fora desse padrão e que estão acima dos R\\\\$20.000,00"
   ]
  },
  {
   "cell_type": "markdown",
   "metadata": {},
   "source": [
    "Quando analisada a questão remuneratória destacando 4 profissões em relação as outras, isso é, Professor, Médico, Engenheiro, Advogado e Outros, pode-se observar que os **advogados** possuem sua caixa (1º-3º quartis) acima das outras profissões, indicando uma **remuneração**, em geral, **maior que as outras profissões**. Inclusive a mediana dos Advogados está acima do limite superior de todas outras profissões, exceto dos médicos. Os Advogados também são os que possuem a menor distância interquartil (1º e 3º quartis). Esse fato indica uma **maior igualdade salarial** dentre os seus profissionais quando comparados com as outras (Professor, Médico, Engenheiro e Outros).\n",
    "\n",
    "Os médicos são os que possuem a maior distância interquartil, caracterizando uma diferença salarial maior entre o 1º e 3º quartil. Vale destacar também que o limite superior dos médicos é o mais alto. "
   ]
  },
  {
   "cell_type": "markdown",
   "metadata": {},
   "source": [
    "Quanto a atual composição dos quadros, destaca-se a grande quantidade de servidores que foram admitidos entre  2010 e 2019: 284.564 servidores.\n",
    "\n",
    "Verificou-se ainda um grande quantitativo (cerca de 64.247) de funcionários públicos que foram admitidos antes da década de 90, e que por isso já teriam mais de 30 anos de serviço público. Dessa forma, é possível inferir a necessidade futura de reposição dos quadros diante da eminente aposentaroia deles. "
   ]
  },
  {
   "cell_type": "markdown",
   "metadata": {},
   "source": [
    "Quando combinamos a análise de adminissão com a dos cargos dos quadros atuais, verificou-se uma grande contratação de professores no intervalo 2010-2019 (3x maior que o 2º maior período)."
   ]
  }
 ],
 "metadata": {
  "kernelspec": {
   "display_name": "Python 3",
   "language": "python",
   "name": "python3"
  },
  "language_info": {
   "codemirror_mode": {
    "name": "ipython",
    "version": 3
   },
   "file_extension": ".py",
   "mimetype": "text/x-python",
   "name": "python",
   "nbconvert_exporter": "python",
   "pygments_lexer": "ipython3",
   "version": "3.7.6"
  }
 },
 "nbformat": 4,
 "nbformat_minor": 4
}
